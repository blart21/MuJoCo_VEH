{
 "cells": [
  {
   "cell_type": "code",
   "execution_count": 1,
   "id": "39524a99-7ae8-41c1-aa20-44fb117ef40b",
   "metadata": {},
   "outputs": [],
   "source": [
    "!python scripts/main.py"
   ]
  },
  {
   "cell_type": "code",
   "execution_count": null,
   "id": "f25f0f53-adba-4546-8ffd-3f949c6c1065",
   "metadata": {},
   "outputs": [],
   "source": []
  },
  {
   "cell_type": "code",
   "execution_count": null,
   "id": "82318740-09f0-4bfe-84be-ec3560a25df4",
   "metadata": {},
   "outputs": [],
   "source": []
  }
 ],
 "metadata": {
  "kernelspec": {
   "display_name": "Python 3 (ipykernel)",
   "language": "python",
   "name": "python3"
  },
  "language_info": {
   "codemirror_mode": {
    "name": "ipython",
    "version": 3
   },
   "file_extension": ".py",
   "mimetype": "text/x-python",
   "name": "python",
   "nbconvert_exporter": "python",
   "pygments_lexer": "ipython3",
   "version": "3.10.18"
  }
 },
 "nbformat": 4,
 "nbformat_minor": 5
}
